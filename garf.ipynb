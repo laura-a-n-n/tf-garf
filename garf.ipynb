{
 "cells": [
  {
   "cell_type": "markdown",
   "id": "a4c35961",
   "metadata": {},
   "source": [
    "## tf-garf\n",
    "\n",
    "This is an implementation of \"[Gaussian Activated Radiance Fields](https://arxiv.org/abs/2204.05735)\" by Chng et al. in TensorFlow 2.\n",
    "\n",
    "<a href=\"https://twitter.com/laura_a_n_n\"><img src=\"https://raw.githubusercontent.com/FortAwesome/Font-Awesome/6.x/svgs/brands/twitter.svg\" alt=\"Twitter\" style=\"width: 24px; height: 24px\" /></a>\n",
    "<a href=\"https://github.com/laura-a-n-n\"><img src=\"https://raw.githubusercontent.com/FortAwesome/Font-Awesome/b452a2c086a5e3f319df61b1ce1db7d8e1ad2b7c/svgs/brands/github.svg\" alt=\"GitHub\" style=\"width: 24px; height: 24px\" /></a>"
   ]
  },
  {
   "cell_type": "markdown",
   "id": "a9ed462c",
   "metadata": {},
   "source": [
    "### Data"
   ]
  },
  {
   "cell_type": "code",
   "execution_count": null,
   "id": "119151a3",
   "metadata": {},
   "outputs": [],
   "source": [
    "import numpy as np\n",
    "import tensorflow as tf\n",
    "\n",
    "import matplotlib.pyplot as plt\n",
    "from IPython.display import Image\n",
    "\n",
    "from lib.data import load_data\n",
    "\n",
    "DATA_PATH = 'path/to/llff/data' # put your data here!\n",
    "data = load_data(DATA_PATH)"
   ]
  },
  {
   "cell_type": "markdown",
   "id": "2d57e996",
   "metadata": {},
   "source": [
    "### Train (optional)"
   ]
  },
  {
   "cell_type": "code",
   "execution_count": null,
   "id": "430e77f3",
   "metadata": {},
   "outputs": [],
   "source": [
    "''' training !!! '''\n",
    "\n",
    "from model.garf import GaussianRadianceField\n",
    "from train import train\n",
    "\n",
    "model = GaussianRadianceField(data, num_samples=128)\n",
    "model.compile()\n",
    "\n",
    "# note that the batch size is actually 64 *times* the number of images\n",
    "train(model, 200000, batch_size=64, val_idx='rand', out_path='movie_new/.png', notebook=True, save=True, overwrite=False)"
   ]
  },
  {
   "cell_type": "markdown",
   "id": "322d5e33",
   "metadata": {},
   "source": [
    "### Render"
   ]
  },
  {
   "cell_type": "code",
   "execution_count": null,
   "id": "7c57089e",
   "metadata": {},
   "outputs": [],
   "source": [
    "''' rendering/validation !!! '''\n",
    "\n",
    "from model.garf import GaussianRadianceField\n",
    "\n",
    "model = GaussianRadianceField(data, num_samples=128)\n",
    "model.compile()\n",
    "model.load('pretrain/flowers', opt=False)"
   ]
  },
  {
   "cell_type": "code",
   "execution_count": null,
   "id": "f804d7ab",
   "metadata": {},
   "outputs": [],
   "source": [
    "avg_psnr = 0\n",
    "n_psnr = 0\n",
    "\n",
    "for i, yy in enumerate(model.img_rgb):\n",
    "    xx = model.render(i)\n",
    "    \n",
    "    psnr = tf.image.psnr(xx, yy, 1.)\n",
    "    if ~tf.math.is_nan(psnr):\n",
    "        avg_psnr += psnr\n",
    "        n_psnr += 1\n",
    "        \n",
    "    tf.print(f'PSNR for view index {i}: {psnr:.5f}')\n",
    "\n",
    "    # plt.imsave(f'val/{i}.png', np.array(xx)) \n",
    "    plt.imshow(xx)\n",
    "    plt.show()\n",
    "    plt.imshow(yy)\n",
    "    plt.show()\n",
    "\n",
    "avg_psnr /= n_psnr\n",
    "tf.print(f'Average PSNR {avg_psnr:.5f}')"
   ]
  },
  {
   "cell_type": "code",
   "execution_count": null,
   "id": "37b388a2-ec67-42db-9288-118967b0d1a1",
   "metadata": {},
   "outputs": [],
   "source": [
    "''' spiral gif! '''\n",
    "\n",
    "import imageio\n",
    "import glob\n",
    "import os\n",
    "\n",
    "from lib.rays import create_spiral_poses\n",
    "\n",
    "''' params '''\n",
    "file_path = 'render' # path/folder name (no trailing slash)\n",
    "file_type = 'png' # extension\n",
    "N = 3 # filename stem length\n",
    "\n",
    "frames = 55 # number of frames in output\n",
    "n_circ = 2 # number of circles in total\n",
    "\n",
    "spiral_axes = [.2, .2, .05] # x, y, z\n",
    "spiral_depth = 1.2 # focus depth\n",
    "''' end params '''\n",
    "\n",
    "out_path = file_path + '/.' + file_type\n",
    "\n",
    "if not os.path.exists(file_path):\n",
    "    os.mkdir(file_path)\n",
    "\n",
    "# create poses\n",
    "m_poses = tf.cast(create_spiral_poses(np.array(spiral_axes), spiral_depth, n_poses=frames, n_circ=n_circ), tf.float32)\n",
    "\n",
    "for i in range(tf.shape(m_poses)[0]):\n",
    "    name = list('0' * N)\n",
    "    name[-len(str(i)):N] = str(i)\n",
    "    name = out_path[:-4] + (''.join(name)) + out_path[-4:]\n",
    "    plt.imsave(name, np.array(model.render(pose=m_poses[i])))\n",
    "\n",
    "# render gif\n",
    "with imageio.get_writer('movie.gif', mode='I') as writer:\n",
    "    for filename in sorted(glob.glob('render/*')):\n",
    "        image = imageio.imread(filename)\n",
    "        writer.append_data(image)\n",
    "\n",
    "Image(filename='movie.gif')"
   ]
  }
 ],
 "metadata": {
  "kernelspec": {
   "display_name": "Python 3 (ipykernel)",
   "language": "python",
   "name": "python3"
  },
  "language_info": {
   "codemirror_mode": {
    "name": "ipython",
    "version": 3
   },
   "file_extension": ".py",
   "mimetype": "text/x-python",
   "name": "python",
   "nbconvert_exporter": "python",
   "pygments_lexer": "ipython3",
   "version": "3.8.10"
  }
 },
 "nbformat": 4,
 "nbformat_minor": 5
}
