{
 "cells": [
  {
   "cell_type": "markdown",
   "id": "a4c35961",
   "metadata": {},
   "source": [
    "## tf-garf\n",
    "\n",
    "This is an implementation of \"[Gaussian Activated Radiance Fields](https://arxiv.org/abs/2204.05735)\" by Chng et al. in TensorFlow 2.\n",
    "\n",
    "<a href='https://github.com/laura-a-n-n'><img src='https://github.com/favicon.ico' alt='GitHub' style='display:inline;width:2em; height:2em' /></a>\n",
    "<a href='https://twitter.com/laura_a_n_n'><img src='https://img.icons8.com/color/344/twitter--v1.png' alt='GitHub' style='display:inline; width:2.2em; height:2.2em' /></a>\n",
    "<a href='https://lauraann.dev/'><img src='https://img.icons8.com/ios/344/domain.png' alt='GitHub' style='display:inline; width:2em; height:2em' /></a> *made with love by Laura Ann*"
   ]
  },
  {
   "cell_type": "markdown",
   "id": "a9ed462c",
   "metadata": {},
   "source": [
    "### Data"
   ]
  },
  {
   "cell_type": "code",
   "execution_count": null,
   "id": "119151a3",
   "metadata": {},
   "outputs": [],
   "source": [
    "import numpy as np\n",
    "import tensorflow as tf\n",
    "import matplotlib.pyplot as plt\n",
    "\n",
    "from lib.data import load_data\n",
    "\n",
    "from IPython.display import display\n",
    "from ipywidgets import widgets\n",
    "from tkinter import Tk, filedialog\n",
    "\n",
    "def select_files(b):\n",
    "    root = Tk()\n",
    "    root.withdraw()\n",
    "    root.call('wm', 'attributes', '.', '-topmost', True)\n",
    "    b.files = filedialog.askdirectory()\n",
    "    \n",
    "    tf.print(b.files)\n",
    "    display(load_button)\n",
    "\n",
    "def process(b):\n",
    "    global sel_button\n",
    "    \n",
    "    tf.print('Loading data...')\n",
    "    b.data = load_data(sel_button.files)\n",
    "    tf.print('Data loaded.')\n",
    "\n",
    "sel_button = widgets.Button(description='Select folder...')\n",
    "sel_button.on_click(select_files)\n",
    "\n",
    "load_button = widgets.Button(description='Load data')\n",
    "load_button.on_click(process)\n",
    "\n",
    "display(sel_button)"
   ]
  },
  {
   "cell_type": "markdown",
   "id": "2d57e996",
   "metadata": {},
   "source": [
    "### Train"
   ]
  },
  {
   "cell_type": "code",
   "execution_count": null,
   "id": "430e77f3",
   "metadata": {
    "scrolled": false
   },
   "outputs": [],
   "source": [
    "''' training !!! '''\n",
    "\n",
    "from model.garf import GaussianRadianceField\n",
    "from train import train\n",
    "\n",
    "model = GaussianRadianceField(load_button.data, num_samples=128)\n",
    "model.compile()\n",
    "\n",
    "def standard_train(b):\n",
    "    train(model, 200000, batch_size=64, val_idx='rand')\n",
    "\n",
    "train_button = widgets.Button(description='Train')\n",
    "train_button.on_click(standard_train)\n",
    "display(train_button)"
   ]
  },
  {
   "cell_type": "markdown",
   "id": "322d5e33",
   "metadata": {},
   "source": [
    "### Render"
   ]
  },
  {
   "cell_type": "code",
   "execution_count": null,
   "id": "7c57089e",
   "metadata": {},
   "outputs": [],
   "source": [
    "model.load('pretrain/flowers')"
   ]
  },
  {
   "cell_type": "code",
   "execution_count": null,
   "id": "11ee1c22",
   "metadata": {
    "scrolled": false
   },
   "outputs": [],
   "source": [
    "for i in range(num_img):\n",
    "    xx, yy = model.render(i)\n",
    "    tf.print(tf.image.psnr(xx, yy, 1.))"
   ]
  },
  {
   "cell_type": "code",
   "execution_count": null,
   "id": "f804d7ab",
   "metadata": {},
   "outputs": [],
   "source": [
    "xx, yy = model.render(0)\n",
    "tf.image.psnr(xx, yy, 1.)"
   ]
  }
 ],
 "metadata": {
  "kernelspec": {
   "display_name": "Python 3",
   "language": "python",
   "name": "python3"
  },
  "language_info": {
   "codemirror_mode": {
    "name": "ipython",
    "version": 3
   },
   "file_extension": ".py",
   "mimetype": "text/x-python",
   "name": "python",
   "nbconvert_exporter": "python",
   "pygments_lexer": "ipython3",
   "version": "3.8.5"
  }
 },
 "nbformat": 4,
 "nbformat_minor": 5
}
